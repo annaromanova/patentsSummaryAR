{
 "cells": [
  {
   "cell_type": "code",
   "execution_count": 26,
   "id": "focused-change",
   "metadata": {},
   "outputs": [],
   "source": [
    "import boto3\n",
    "import json\n",
    "import urllib\n",
    "import os\n",
    "import logging\n",
    "import textract\n",
    "import PyPDF2\n",
    "import re\n",
    "import io\n",
    "import requests\n",
    "import string\n",
    "import sys\n",
    "#from patent import Patent\n",
    "from collections import Counter"
   ]
  },
  {
   "cell_type": "code",
   "execution_count": 27,
   "id": "grave-queensland",
   "metadata": {},
   "outputs": [],
   "source": [
    "import xml.etree.ElementTree as et\n",
    "import logging"
   ]
  },
  {
   "cell_type": "code",
   "execution_count": 29,
   "id": "actual-burlington",
   "metadata": {},
   "outputs": [],
   "source": [
    "logger = logging.getLogger()\n",
    "logger.setLevel(logging.INFO)\n",
    "\n",
    "class Patent:\n",
    "    def __init__(self, patent_id):\n",
    "        self.patentNumber = patent_id\n",
    "        self.__process_xml()\n",
    "        #Extract epitope information\n",
    "        self.__extract_epitope_info()\n",
    "      \n",
    "        \n",
    "    def __process_xml(self):\n",
    "        tree = et.parse(self.patentNumber + '.xml')\n",
    "        root = tree.getroot()\n",
    "        logger.info(\"in __process_xml\")\n",
    "        self.patentName = root.find('.//invention-title').text\n",
    "        self.patentDate = root.find('.//publication-reference').find('.//date').text\n",
    "        self.inventors = [el.find('.//first-name').text + ' ' + \n",
    "                            el.find('.//last-name').text\n",
    "                            for el in root.findall('.//inventor')]\n",
    "        self.abstract = ' '.join([' '.join(el.itertext()) \n",
    "                            for el in root.findall('.//abstract')])\n",
    "        self.description = ' '.join([' '.join(el.itertext()) \n",
    "                            for el in root.findall('.//description')])\n",
    "        self.claims = [' '.join(el.itertext()) \n",
    "                            for el in root.findall('.//claim')]\n",
    "        self.patentAssignees = [el.find('.//orgname').text \n",
    "                            for el in root.findall('.//assignee')]\n",
    "        #self.applicants = [el.find('.//orgname').text \n",
    "                                #for el in root.findall('.//us-applicant')]\n",
    "        self.examiners = root.find('.//primary-examiner').find('.//first-name').text + ' ' + root.find('.//primary-examiner').find('.//last-name').text\n",
    "        self.claimsCount = len(self.claims)\n",
    "        self.appNumber = root.find('.//application-reference').find('.//doc-number').text\n",
    "        self.appDate = root.find('.//application-reference').find('.//date').text\n",
    "        \n",
    "    \n",
    "    #Extract epitope information\n",
    "    def __extract_epitope_info(self):  \n",
    "        #US9574011\n",
    "        bindingString = r'''([^.]*?antibody specifically binds an epitope comprising residues[^.]*\\.)'''     \n",
    "        #US8829165\n",
    "        bindingString1 = r'''([^.]*?antibody binds to at least one of the following residues[^.]*\\.)'''   \n",
    "        #US8859741\n",
    "        bindingString2 = r'''([^.]*?antibody binds an epitope on(.*)comprising at least one of residues[^.]*\\.)''' \n",
    "        #US8563698\n",
    "        bindingString3 = r'''([^.]*?antibody binds to at least one residue within the sequence set forth by residues[^.]*\\.)''' \n",
    "        #US10023654\n",
    "        bindingString4 = r'''([^.]*?antibody or antigen-binding fragment of the antibody binds an epitope comprising amino acid residue[^.]*\\.)'''\n",
    "        \n",
    "        #Regex\n",
    "        bindingPattern = [re.compile(p) for p in [bindingString, bindingString1, bindingString2, bindingString3, bindingString4]]\n",
    "\n",
    "        #Claimed as string (in v_0.1 maybe switch to list back)\n",
    "        claimed = ''.join(self.claims)\n",
    "        \n",
    "        #Find the required sentence with epitope info\n",
    "        for regex in bindingPattern:\n",
    "            if re.findall(regex, claimed):\n",
    "                sentenceToEvaluate = re.findall(regex, claimed)\n",
    "        sentenceToEvaluate = ','.join(str(v) for v in sentenceToEvaluate)\n",
    "        \n",
    "        #Extract Seq ID\n",
    "        extractedSeqID = ''.join(sentenceToEvaluate)\n",
    "        if re.search(r'\\bresidues\\b', extractedSeqID):\n",
    "            extractedSeqID = extractedSeqID.split(\"SEQ ID NO:\")[1].split(\".\")[0].strip()\n",
    "            extractedSeqID = extractedSeqID.split(\",\")[0].strip()\n",
    "        else:\n",
    "            extractedSeqID = extractedSeqID.split(\"(SEQ ID NO:\")[1].split(\").\")[0].strip() \n",
    "        self.claimedResiduesSeqNoId = extractedSeqID\n",
    "        \n",
    "        #Extract string with residues info\n",
    "        extractedString = ''.join(sentenceToEvaluate)\n",
    "        if re.search(r'\\bresidues\\b', extractedString):\n",
    "            extractedString = extractedString.split(\"residues\")[1].split(\"SEQ ID\")[0]\n",
    "        else:\n",
    "            extractedString = extractedString.split(\"residue\")[1].split(\"SEQ ID\")[0]\n",
    "        words = extractedString.split()\n",
    "        residuesPositionsMarked = []\n",
    "        for i in words:\n",
    "            i = i.replace(',','')\n",
    "            #if punctuation\n",
    "            if i in string.punctuation:\n",
    "                i = i.replace(':','')     \n",
    "            #if range of sequences\n",
    "            elif i.find(\"-\") != -1:\n",
    "                rangeList = i.split(\"-\")\n",
    "                for n in range(int(rangeList[0]), int(rangeList[-1]) + 1):\n",
    "                    residuesPositionsMarked.append(int(n))    \n",
    "            #if mix of letters and digits\n",
    "            elif (i.isalpha() == False) and (i.isdigit() == False) and (len(i) < 5 ):\n",
    "                i = i[1:]\n",
    "                residuesPositionsMarked.append(int(i))\n",
    "            #if digital\n",
    "            elif i.isdigit():\n",
    "                residuesPositionsMarked.append(int(i))\n",
    "        self.claimedResiduesValues = residuesPositionsMarked\n",
    "        "
   ]
  },
  {
   "cell_type": "code",
   "execution_count": 30,
   "id": "signed-quilt",
   "metadata": {},
   "outputs": [],
   "source": [
    "patent = Patent(\"US8829165B2\")"
   ]
  },
  {
   "cell_type": "code",
   "execution_count": 31,
   "id": "surface-difficulty",
   "metadata": {},
   "outputs": [
    {
     "data": {
      "text/plain": [
       "'3'"
      ]
     },
     "execution_count": 31,
     "metadata": {},
     "output_type": "execute_result"
    }
   ],
   "source": [
    "patent.claimedResiduesSeqNoId"
   ]
  },
  {
   "cell_type": "code",
   "execution_count": 32,
   "id": "destroyed-merit",
   "metadata": {},
   "outputs": [
    {
     "data": {
      "text/plain": [
       "[153, 154, 155, 194, 238, 239, 369, 372, 374, 375, 377, 378, 379, 380, 381]"
      ]
     },
     "execution_count": 32,
     "metadata": {},
     "output_type": "execute_result"
    }
   ],
   "source": [
    "patent.claimedResiduesValues"
   ]
  }
 ],
 "metadata": {
  "kernelspec": {
   "display_name": "Python 3",
   "language": "python",
   "name": "python3"
  },
  "language_info": {
   "codemirror_mode": {
    "name": "ipython",
    "version": 3
   },
   "file_extension": ".py",
   "mimetype": "text/x-python",
   "name": "python",
   "nbconvert_exporter": "python",
   "pygments_lexer": "ipython3",
   "version": "3.8.2"
  }
 },
 "nbformat": 4,
 "nbformat_minor": 5
}
