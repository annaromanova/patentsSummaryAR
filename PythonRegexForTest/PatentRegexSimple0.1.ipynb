{
 "cells": [
  {
   "cell_type": "code",
   "execution_count": 84,
   "id": "fabulous-ministry",
   "metadata": {},
   "outputs": [],
   "source": [
    "import json\n",
    "import re"
   ]
  },
  {
   "cell_type": "code",
   "execution_count": 85,
   "id": "genetic-serial",
   "metadata": {},
   "outputs": [],
   "source": [
    "#Extract epitope residues \n",
    "class EpitopeExtractRegex:\n",
    "    \n",
    "    #Init the class\n",
    "    def __init__(self, antigen, patentID, patentJson):\n",
    "        self.antigen = antigen\n",
    "        self.patentID = patentID\n",
    "        self.patentJson = patentJson\n",
    "        self.keyList = [\"antigen\",\"patentID\",\"residuesPositionsMarked\"]\n",
    "        self.epitopeDictionary = dict.fromkeys(self.keyList)\n",
    "        self.epitopeDictionary[\"antigen\"] = antigen\n",
    "        self.epitopeDictionary[\"patentID\"] = patentID\n",
    "        self.epitopeDictionary[\"residuesPositionsMarked\"] = []\n",
    "        self.bindingString = r'''([^.]*?An isolated monoclonal antibody, wherein, when bound to PCSK9, the monoclonal antibody binds to at least one of the following residues:[^.]*\\.)''' \n",
    "        self.bindingPattern = re.compile(self.bindingString)\n",
    "        self.outputJson = ''.join((\"extracted\", patentID, \".json\"))\n",
    "        \n",
    "        \n",
    "    #Load patent from json    \n",
    "    def loadJson(self):  \n",
    "        try:\n",
    "            self.jsonfile = open(self.patentJson)\n",
    "        except OSError:\n",
    "            print (\"Could not open/read file:\", self.patentJson)\n",
    "            sys.exit()\n",
    "        \n",
    "        with self.jsonfile:\n",
    "            self.data = self.jsonfile.read().replace('\\n', '')\n",
    "            return self.data\n",
    "            \n",
    "    #Find the relevant sentence\n",
    "    def findRelevantSentence(self):\n",
    "        self.sentenceToEvaluate = re.findall(self.bindingPattern, self.data)\n",
    "        return self.sentenceToEvaluate\n",
    "        \n",
    "    #Preprocess the required string    \n",
    "    def extractWords(self):\n",
    "        self.extractedString = ''.join(self.sentenceToEvaluate).split(\"residues:\")[1].split(\"SEQ ID\")[0]\n",
    "        self.words = self.extractedString.split()\n",
    "        return self.words\n",
    "    \n",
    "    #Fill the dictionary\n",
    "    def fillEpitopeDict(self):\n",
    "        for i in self.words:\n",
    "            i = i.replace(',','')\n",
    "            if (i.isalpha() == False) and (i.isdigit() == False):\n",
    "                i = i[1:]\n",
    "                self.epitopeDictionary[\"residuesPositionsMarked\"].append(i)\n",
    "    \n",
    "    #Write epitope dictionary to json file\n",
    "    def epitopeDictToJson(self):\n",
    "        with open(self.outputJson, 'w') as outputJson:\n",
    "            json.dump(self.epitopeDictionary, outputJson)\n",
    "    "
   ]
  },
  {
   "cell_type": "code",
   "execution_count": 86,
   "id": "controlled-iraqi",
   "metadata": {},
   "outputs": [],
   "source": [
    "evaluatedPatent = EpitopeExtractRegex(\"PCSK9\", \"8829165\", \"8829165.json\")"
   ]
  },
  {
   "cell_type": "code",
   "execution_count": 87,
   "id": "hungry-trigger",
   "metadata": {},
   "outputs": [],
   "source": [
    "data = evaluatedPatent.loadJson()"
   ]
  },
  {
   "cell_type": "code",
   "execution_count": 88,
   "id": "romantic-drinking",
   "metadata": {},
   "outputs": [],
   "source": [
    "sentenceToParse = evaluatedPatent.findRelevantSentence()"
   ]
  },
  {
   "cell_type": "code",
   "execution_count": 89,
   "id": "municipal-biotechnology",
   "metadata": {},
   "outputs": [
    {
     "data": {
      "text/plain": [
       "[' An isolated monoclonal antibody, wherein, when bound to PCSK9, the monoclonal antibody binds to at least one of the following residues: S153, I154, P155, R194, D238, A239, I369, S372, D374, C375, T377, C378, F379, V380, or S381 of SEQ ID NO:3, and wherein the monoclonal antibody blocks binding of PCSK9 to LDLR.']"
      ]
     },
     "execution_count": 89,
     "metadata": {},
     "output_type": "execute_result"
    }
   ],
   "source": [
    "sentenceToParse"
   ]
  },
  {
   "cell_type": "code",
   "execution_count": 90,
   "id": "infectious-brush",
   "metadata": {},
   "outputs": [],
   "source": [
    "ourString = evaluatedPatent.extractWords()"
   ]
  },
  {
   "cell_type": "code",
   "execution_count": 91,
   "id": "fitting-disabled",
   "metadata": {},
   "outputs": [],
   "source": [
    "words = evaluatedPatent.extractWords()"
   ]
  },
  {
   "cell_type": "code",
   "execution_count": 92,
   "id": "forward-effect",
   "metadata": {},
   "outputs": [],
   "source": [
    "evaluatedPatent.fillEpitopeDict()"
   ]
  },
  {
   "cell_type": "code",
   "execution_count": 93,
   "id": "according-crown",
   "metadata": {},
   "outputs": [
    {
     "data": {
      "text/plain": [
       "{'antigen': 'PCSK9',\n",
       " 'patentID': '8829165',\n",
       " 'residuesPositionsMarked': ['153',\n",
       "  '154',\n",
       "  '155',\n",
       "  '194',\n",
       "  '238',\n",
       "  '239',\n",
       "  '369',\n",
       "  '372',\n",
       "  '374',\n",
       "  '375',\n",
       "  '377',\n",
       "  '378',\n",
       "  '379',\n",
       "  '380',\n",
       "  '381']}"
      ]
     },
     "execution_count": 93,
     "metadata": {},
     "output_type": "execute_result"
    }
   ],
   "source": [
    "evaluatedPatent.epitopeDictionary"
   ]
  },
  {
   "cell_type": "code",
   "execution_count": 94,
   "id": "talented-dependence",
   "metadata": {},
   "outputs": [],
   "source": [
    "evaluatedPatent.epitopeDictToJson()"
   ]
  }
 ],
 "metadata": {
  "kernelspec": {
   "display_name": "Python 3",
   "language": "python",
   "name": "python3"
  },
  "language_info": {
   "codemirror_mode": {
    "name": "ipython",
    "version": 3
   },
   "file_extension": ".py",
   "mimetype": "text/x-python",
   "name": "python",
   "nbconvert_exporter": "python",
   "pygments_lexer": "ipython3",
   "version": "3.8.2"
  }
 },
 "nbformat": 4,
 "nbformat_minor": 5
}
