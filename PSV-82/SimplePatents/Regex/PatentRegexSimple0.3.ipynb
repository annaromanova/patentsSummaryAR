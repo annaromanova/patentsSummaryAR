{
 "cells": [
  {
   "cell_type": "code",
   "execution_count": 141,
   "id": "written-basket",
   "metadata": {},
   "outputs": [],
   "source": [
    "import json\n",
    "import re\n",
    "import string\n",
    "import sys"
   ]
  },
  {
   "cell_type": "code",
   "execution_count": 142,
   "id": "delayed-relief",
   "metadata": {},
   "outputs": [],
   "source": [
    "#Extract epitope residues \n",
    "class EpitopeExtractRegex:\n",
    "    \n",
    "    #Init the class\n",
    "    def __init__(self, antigen, patentID, patentJson):\n",
    "        self.antigen = antigen\n",
    "        self.patentID = patentID\n",
    "        self.patentJson = patentJson\n",
    "        self.keyList = [\"antigen\",\"patentID\",\"residuesPositionsMarked\",\"seqID\"]\n",
    "        self.epitopeDictionary = dict.fromkeys(self.keyList)\n",
    "        self.epitopeDictionary[\"antigen\"] = antigen\n",
    "        self.epitopeDictionary[\"patentID\"] = patentID\n",
    "        self.epitopeDictionary[\"residuesPositionsMarked\"] = []\n",
    "        \n",
    "        #US9574011\n",
    "        self.bindingString = r'''([^.]*?The invention claimed is:(.*)antibody specifically binds an epitope comprising residues[^.]*\\.)'''     \n",
    "        #US8829165\n",
    "        self.bindingString1 = r'''([^.]*?What is claimed is:(.*)antibody binds to at least one of the following residues[^.]*\\.)'''   \n",
    "        #US8859741\n",
    "        self.bindingString2 = r'''([^.]*?What is claimed is:(.*)antibody binds an epitope on(.*)comprising at least one of residues[^.]*\\.)''' \n",
    "        #US8563698\n",
    "        self.bindingString3 = r'''([^.]*?What is claimed is:(.*)antibody binds to at least one residue within the sequence set forth by residues[^.]*\\.)''' \n",
    "        \n",
    "        \n",
    "        \n",
    "        self.bindingPattern = [re.compile(p) for p in [self.bindingString, self.bindingString1, self.bindingString2, self.bindingString3]]\n",
    "        self.outputJson = ''.join((\"extracted\", patentID, \".json\"))\n",
    "        \n",
    "        \n",
    "    #Load patent from json    \n",
    "    def loadJson(self):  \n",
    "        try:\n",
    "            self.jsonfile = open(self.patentJson)\n",
    "        except OSError:\n",
    "            print (\"Could not open/read file:\", self.patentJson)\n",
    "            sys.exit()\n",
    "        \n",
    "        with self.jsonfile:\n",
    "            self.data = self.jsonfile.read().replace('\\n', '')\n",
    "            return self.data\n",
    "            \n",
    "    #Find the relevant sentence\n",
    "    def findRelevantSentence(self):\n",
    "        for regex in self.bindingPattern:\n",
    "            if re.findall(regex, self.data):\n",
    "                self.sentenceToEvaluate = re.findall(regex, self.data)\n",
    "        self.sentenceToEvaluate = ','.join(str(v) for v in self.sentenceToEvaluate)                   \n",
    "        return self.sentenceToEvaluate\n",
    "        \n",
    "    #Preprocess the required string to find positions marked  \n",
    "    def extractWords(self):\n",
    "        self.extractedString = ''.join(self.sentenceToEvaluate).split(\"residues\")[1].split(\"SEQ ID\")[0]\n",
    "        self.words = self.extractedString.split()\n",
    "        return self.words\n",
    "    \n",
    "    #Extract Seq ID\n",
    "    def extractSeqID(self):\n",
    "        self.extractedSeqID = ''.join(self.sentenceToEvaluate).split(\"SEQ ID NO:\")[1].split(\".\")[0].strip()\n",
    "        self.extractedSeqID = self.extractedSeqID.split(\",\")[0].strip()  \n",
    "        return self.extractedSeqID\n",
    "    \n",
    "    #Put Seq ID into dict\n",
    "    def seqIDtoDict(self):\n",
    "        self.epitopeDictionary[\"seqID\"] = self.extractedSeqID\n",
    "        \n",
    "    \n",
    "    #Fill the dictionary\n",
    "    def fillEpitopeDict(self):\n",
    "        for i in self.words:\n",
    "            i = i.replace(',','')\n",
    "            #if punctuation\n",
    "            if i in string.punctuation:\n",
    "                i = i.replace(':','')\n",
    "                \n",
    "            #if range of sequences\n",
    "            elif i.find(\"-\") != -1:\n",
    "                rangeList = i.split(\"-\")\n",
    "                for n in range(int(rangeList[0]), int(rangeList[-1]) + 1):\n",
    "                    self.epitopeDictionary[\"residuesPositionsMarked\"].append(int(n)) \n",
    "                \n",
    "            #if mix of letters and digits\n",
    "            elif (i.isalpha() == False) and (i.isdigit() == False):\n",
    "                i = i[1:]\n",
    "                self.epitopeDictionary[\"residuesPositionsMarked\"].append(int(i))\n",
    "            #if digital\n",
    "            elif i.isdigit():\n",
    "                self.epitopeDictionary[\"residuesPositionsMarked\"].append(int(i))\n",
    "    \n",
    "    #Write epitope dictionary to json file\n",
    "    def epitopeDictToJson(self):\n",
    "        with open(self.outputJson, 'w') as outputJson:\n",
    "            json.dump(self.epitopeDictionary, outputJson)\n",
    "    "
   ]
  },
  {
   "cell_type": "code",
   "execution_count": 143,
   "id": "spread-health",
   "metadata": {},
   "outputs": [],
   "source": [
    "evaluatedPatent011 = EpitopeExtractRegex(\"TFPI\", \"US9574011\", \"US9574011.json\")"
   ]
  },
  {
   "cell_type": "code",
   "execution_count": 144,
   "id": "wooden-extension",
   "metadata": {},
   "outputs": [],
   "source": [
    "data011 = evaluatedPatent011.loadJson()"
   ]
  },
  {
   "cell_type": "code",
   "execution_count": 145,
   "id": "historical-invalid",
   "metadata": {},
   "outputs": [],
   "source": [
    "sentenceToParse011 = evaluatedPatent011.findRelevantSentence()"
   ]
  },
  {
   "cell_type": "code",
   "execution_count": 146,
   "id": "false-creator",
   "metadata": {},
   "outputs": [
    {
     "data": {
      "text/plain": [
       "'(\\'\": \"\",   \"Epitope description 1\": \"The invention claimed is: A monoclonal antibody that specifically binds the K2 domain (Kunitz domain 2) of TFPI, wherein said antibody specifically binds an epitope comprising residues E10, E11, D12, P13, R17, Y19, T21, Y23, F24, N26, Q28, Q31, C32, E33, R34, K36, and L50 of SEQ ID NO: 2.\\', \\' A monoclonal antibody that specifically binds the K2 domain (Kunitz domain 2) of TFPI, wherein said \\')'"
      ]
     },
     "execution_count": 146,
     "metadata": {},
     "output_type": "execute_result"
    }
   ],
   "source": [
    "sentenceToParse011"
   ]
  },
  {
   "cell_type": "code",
   "execution_count": 147,
   "id": "naughty-solid",
   "metadata": {},
   "outputs": [],
   "source": [
    "ourString011 = evaluatedPatent011.extractWords()"
   ]
  },
  {
   "cell_type": "code",
   "execution_count": 148,
   "id": "entertaining-princess",
   "metadata": {},
   "outputs": [],
   "source": [
    "words011 = evaluatedPatent011.extractWords()"
   ]
  },
  {
   "cell_type": "code",
   "execution_count": 149,
   "id": "dying-founder",
   "metadata": {},
   "outputs": [],
   "source": [
    "extractedSeqID011 = evaluatedPatent011.extractSeqID()"
   ]
  },
  {
   "cell_type": "code",
   "execution_count": 150,
   "id": "hundred-protein",
   "metadata": {},
   "outputs": [
    {
     "data": {
      "text/plain": [
       "'2'"
      ]
     },
     "execution_count": 150,
     "metadata": {},
     "output_type": "execute_result"
    }
   ],
   "source": [
    "extractedSeqID011"
   ]
  },
  {
   "cell_type": "code",
   "execution_count": 151,
   "id": "naughty-affairs",
   "metadata": {},
   "outputs": [],
   "source": [
    "evaluatedPatent011.seqIDtoDict()"
   ]
  },
  {
   "cell_type": "code",
   "execution_count": 152,
   "id": "equipped-jones",
   "metadata": {},
   "outputs": [],
   "source": [
    "evaluatedPatent011.fillEpitopeDict()"
   ]
  },
  {
   "cell_type": "code",
   "execution_count": 153,
   "id": "accepting-passenger",
   "metadata": {},
   "outputs": [
    {
     "data": {
      "text/plain": [
       "{'antigen': 'TFPI',\n",
       " 'patentID': 'US9574011',\n",
       " 'residuesPositionsMarked': [10,\n",
       "  11,\n",
       "  12,\n",
       "  13,\n",
       "  17,\n",
       "  19,\n",
       "  21,\n",
       "  23,\n",
       "  24,\n",
       "  26,\n",
       "  28,\n",
       "  31,\n",
       "  32,\n",
       "  33,\n",
       "  34,\n",
       "  36,\n",
       "  50],\n",
       " 'seqID': '2'}"
      ]
     },
     "execution_count": 153,
     "metadata": {},
     "output_type": "execute_result"
    }
   ],
   "source": [
    "evaluatedPatent011.epitopeDictionary"
   ]
  },
  {
   "cell_type": "code",
   "execution_count": 154,
   "id": "liked-quantity",
   "metadata": {},
   "outputs": [],
   "source": [
    "evaluatedPatent011.epitopeDictToJson()"
   ]
  },
  {
   "cell_type": "code",
   "execution_count": 155,
   "id": "stopped-breakfast",
   "metadata": {},
   "outputs": [
    {
     "name": "stdout",
     "output_type": "stream",
     "text": [
      "('25\"}}},\"us-claim-statement\":{\"_text\":\"What is claimed is:\"},\"claims\":{\"_attributes\":{\"id\":\"claims\"},\"claim\":[{\"_attributes\":{\"id\":\"CLM-00001\",\"num\":\"00001\"},\"claim-text\":{\"_text\":\"1. An isolated monoclonal antibody, wherein, when bound to PCSK9, the monoclonal antibody binds to at least one of the following residues: S153, I154, P155, R194, D238, A239, I369, S372, D374, C375, T377, C378, F379, V380, or S381 of SEQ ID NO:3, and wherein the monoclonal antibody blocks binding of PCSK9 to LDLR.\"}},{\"_attributes\":{\"id\":\"CLM-00002\",\"num\":\"00002\"},\"claim-text\":{\"_text\":[\"2. The isolated monoclonal antibody of \",\", wherein the monoclonal antibody binds to at least S153.\"],\"claim-ref\":{\"_attributes\":{\"idref\":\"CLM-00001\"},\"_text\":\"claim 1\"}}},{\"_attributes\":{\"id\":\"CLM-00003\",\"num\":\"00003\"},\"claim-text\":{\"_text\":[\"3. The isolated monoclonal antibody of \",\", wherein the monoclonal antibody binds to at least I154.\"],\"claim-ref\":{\"_attributes\":{\"idref\":\"CLM-00001\"},\"_text\":\"claim 1\"}}},{\"_attributes\":{\"id\":\"CLM-00004\",\"num\":\"00004\"},\"claim-text\":{\"_text\":[\"4. The isolated monoclonal antibody of \",\", wherein the monoclonal antibody binds to at least P155.\"],\"claim-ref\":{\"_attributes\":{\"idref\":\"CLM-00001\"},\"_text\":\"claim 1\"}}},{\"_attributes\":{\"id\":\"CLM-00005\",\"num\":\"00005\"},\"claim-text\":{\"_text\":[\"5. The isolated monoclonal antibody of \",\", wherein the monoclonal antibody binds to at least T377.\"],\"claim-ref\":{\"_attributes\":{\"idref\":\"CLM-00001\"},\"_text\":\"claim 1\"}}},{\"_attributes\":{\"id\":\"CLM-00006\",\"num\":\"00006\"},\"claim-text\":{\"_text\":[\"6. The isolated monoclonal antibody of \",\", wherein the monoclonal antibody binds to at least R194.\"],\"claim-ref\":{\"_attributes\":{\"idref\":\"CLM-00001\"},\"_text\":\"claim 1\"}}},{\"_attributes\":{\"id\":\"CLM-00007\",\"num\":\"00007\"},\"claim-text\":{\"_text\":[\"7. The isolated monoclonal antibody of \",\", wherein the monoclonal antibody binds to at least D238.\"],\"claim-ref\":{\"_attributes\":{\"idref\":\"CLM-00001\"},\"_text\":\"claim 1\"}}},{\"_attributes\":{\"id\":\"CLM-00008\",\"num\":\"00008\"},\"claim-text\":{\"_text\":[\"8. The isolated monoclonal antibody of \",\", wherein the monoclonal antibody binds to at least A239.\"],\"claim-ref\":{\"_attributes\":{\"idref\":\"CLM-00001\"},\"_text\":\"claim 1\"}}},{\"_attributes\":{\"id\":\"CLM-00009\",\"num\":\"00009\"},\"claim-text\":{\"_text\":[\"9. The isolated monoclonal antibody of \",\", wherein the monoclonal antibody binds to at least I369.\"],\"claim-ref\":{\"_attributes\":{\"idref\":\"CLM-00001\"},\"_text\":\"claim 1\"}}},{\"_attributes\":{\"id\":\"CLM-00010\",\"num\":\"00010\"},\"claim-text\":{\"_text\":[\"10. The isolated monoclonal antibody of \",\", wherein the monoclonal antibody binds to at least S372.\"],\"claim-ref\":{\"_attributes\":{\"idref\":\"CLM-00001\"},\"_text\":\"claim 1\"}}},{\"_attributes\":{\"id\":\"CLM-00011\",\"num\":\"00011\"},\"claim-text\":{\"_text\":[\"11. The isolated monoclonal antibody of \",\", wherein the monoclonal antibody binds to at least D374.\"],\"claim-ref\":{\"_attributes\":{\"idref\":\"CLM-00001\"},\"_text\":\"claim 1\"}}},{\"_attributes\":{\"id\":\"CLM-00012\",\"num\":\"00012\"},\"claim-text\":{\"_text\":[\"12. The isolated monoclonal antibody of \",\", wherein the monoclonal antibody binds to at least C375.\"],\"claim-ref\":{\"_attributes\":{\"idref\":\"CLM-00001\"},\"_text\":\"claim 1\"}}},{\"_attributes\":{\"id\":\"CLM-00013\",\"num\":\"00013\"},\"claim-text\":{\"_text\":[\"13. The isolated monoclonal antibody of \",\", wherein the monoclonal antibody binds to at least C378.\"],\"claim-ref\":{\"_attributes\":{\"idref\":\"CLM-00001\"},\"_text\":\"claim 1\"}}},{\"_attributes\":{\"id\":\"CLM-00014\",\"num\":\"00014\"},\"claim-text\":{\"_text\":[\"14. The isolated monoclonal antibody of \",\", wherein the monoclonal antibody binds to at least F379.\"],\"claim-ref\":{\"_attributes\":{\"idref\":\"CLM-00001\"},\"_text\":\"claim 1\"}}},{\"_attributes\":{\"id\":\"CLM-00015\",\"num\":\"00015\"},\"claim-text\":{\"_text\":[\"15. The isolated monoclonal antibody of \",\", wherein the monoclonal antibody binds to at least V380.\"],\"claim-ref\":{\"_attributes\":{\"idref\":\"CLM-00001\"},\"_text\":\"claim 1\"}}},{\"_attributes\":{\"id\":\"CLM-00016\",\"num\":\"00016\"},\"claim-text\":{\"_text\":[\"16. The isolated monoclonal antibody of \",\", wherein the monoclonal antibody binds to at least S381.\"],\"claim-ref\":{\"_attributes\":{\"idref\":\"CLM-00001\"},\"_text\":\"claim 1\"}}},{\"_attributes\":{\"id\":\"CLM-00017\",\"num\":\"00017\"},\"claim-text\":{\"_text\":\"17. A pharmaceutical composition comprising an isolated monoclonal antibody, wherein, when bound to PCSK9, the isolated monoclonal antibody binds to at least one of the following residues: S153, I154, P155, R194, D238, A239, I369, S372, D374, C375, T377, C378, F379, V380, or S381 of SEQ ID NO:3, and wherein the monoclonal antibody blocks binding of PCSK9 to LDLR.', '\"},\"claims\":{\"_attributes\":{\"id\":\"claims\"},\"claim\":[{\"_attributes\":{\"id\":\"CLM-00001\",\"num\":\"00001\"},\"claim-text\":{\"_text\":\"1. An isolated monoclonal antibody, wherein, when bound to PCSK9, the monoclonal antibody binds to at least one of the following residues: S153, I154, P155, R194, D238, A239, I369, S372, D374, C375, T377, C378, F379, V380, or S381 of SEQ ID NO:3, and wherein the monoclonal antibody blocks binding of PCSK9 to LDLR.\"}},{\"_attributes\":{\"id\":\"CLM-00002\",\"num\":\"00002\"},\"claim-text\":{\"_text\":[\"2. The isolated monoclonal antibody of \",\", wherein the monoclonal antibody binds to at least S153.\"],\"claim-ref\":{\"_attributes\":{\"idref\":\"CLM-00001\"},\"_text\":\"claim 1\"}}},{\"_attributes\":{\"id\":\"CLM-00003\",\"num\":\"00003\"},\"claim-text\":{\"_text\":[\"3. The isolated monoclonal antibody of \",\", wherein the monoclonal antibody binds to at least I154.\"],\"claim-ref\":{\"_attributes\":{\"idref\":\"CLM-00001\"},\"_text\":\"claim 1\"}}},{\"_attributes\":{\"id\":\"CLM-00004\",\"num\":\"00004\"},\"claim-text\":{\"_text\":[\"4. The isolated monoclonal antibody of \",\", wherein the monoclonal antibody binds to at least P155.\"],\"claim-ref\":{\"_attributes\":{\"idref\":\"CLM-00001\"},\"_text\":\"claim 1\"}}},{\"_attributes\":{\"id\":\"CLM-00005\",\"num\":\"00005\"},\"claim-text\":{\"_text\":[\"5. The isolated monoclonal antibody of \",\", wherein the monoclonal antibody binds to at least T377.\"],\"claim-ref\":{\"_attributes\":{\"idref\":\"CLM-00001\"},\"_text\":\"claim 1\"}}},{\"_attributes\":{\"id\":\"CLM-00006\",\"num\":\"00006\"},\"claim-text\":{\"_text\":[\"6. The isolated monoclonal antibody of \",\", wherein the monoclonal antibody binds to at least R194.\"],\"claim-ref\":{\"_attributes\":{\"idref\":\"CLM-00001\"},\"_text\":\"claim 1\"}}},{\"_attributes\":{\"id\":\"CLM-00007\",\"num\":\"00007\"},\"claim-text\":{\"_text\":[\"7. The isolated monoclonal antibody of \",\", wherein the monoclonal antibody binds to at least D238.\"],\"claim-ref\":{\"_attributes\":{\"idref\":\"CLM-00001\"},\"_text\":\"claim 1\"}}},{\"_attributes\":{\"id\":\"CLM-00008\",\"num\":\"00008\"},\"claim-text\":{\"_text\":[\"8. The isolated monoclonal antibody of \",\", wherein the monoclonal antibody binds to at least A239.\"],\"claim-ref\":{\"_attributes\":{\"idref\":\"CLM-00001\"},\"_text\":\"claim 1\"}}},{\"_attributes\":{\"id\":\"CLM-00009\",\"num\":\"00009\"},\"claim-text\":{\"_text\":[\"9. The isolated monoclonal antibody of \",\", wherein the monoclonal antibody binds to at least I369.\"],\"claim-ref\":{\"_attributes\":{\"idref\":\"CLM-00001\"},\"_text\":\"claim 1\"}}},{\"_attributes\":{\"id\":\"CLM-00010\",\"num\":\"00010\"},\"claim-text\":{\"_text\":[\"10. The isolated monoclonal antibody of \",\", wherein the monoclonal antibody binds to at least S372.\"],\"claim-ref\":{\"_attributes\":{\"idref\":\"CLM-00001\"},\"_text\":\"claim 1\"}}},{\"_attributes\":{\"id\":\"CLM-00011\",\"num\":\"00011\"},\"claim-text\":{\"_text\":[\"11. The isolated monoclonal antibody of \",\", wherein the monoclonal antibody binds to at least D374.\"],\"claim-ref\":{\"_attributes\":{\"idref\":\"CLM-00001\"},\"_text\":\"claim 1\"}}},{\"_attributes\":{\"id\":\"CLM-00012\",\"num\":\"00012\"},\"claim-text\":{\"_text\":[\"12. The isolated monoclonal antibody of \",\", wherein the monoclonal antibody binds to at least C375.\"],\"claim-ref\":{\"_attributes\":{\"idref\":\"CLM-00001\"},\"_text\":\"claim 1\"}}},{\"_attributes\":{\"id\":\"CLM-00013\",\"num\":\"00013\"},\"claim-text\":{\"_text\":[\"13. The isolated monoclonal antibody of \",\", wherein the monoclonal antibody binds to at least C378.\"],\"claim-ref\":{\"_attributes\":{\"idref\":\"CLM-00001\"},\"_text\":\"claim 1\"}}},{\"_attributes\":{\"id\":\"CLM-00014\",\"num\":\"00014\"},\"claim-text\":{\"_text\":[\"14. The isolated monoclonal antibody of \",\", wherein the monoclonal antibody binds to at least F379.\"],\"claim-ref\":{\"_attributes\":{\"idref\":\"CLM-00001\"},\"_text\":\"claim 1\"}}},{\"_attributes\":{\"id\":\"CLM-00015\",\"num\":\"00015\"},\"claim-text\":{\"_text\":[\"15. The isolated monoclonal antibody of \",\", wherein the monoclonal antibody binds to at least V380.\"],\"claim-ref\":{\"_attributes\":{\"idref\":\"CLM-00001\"},\"_text\":\"claim 1\"}}},{\"_attributes\":{\"id\":\"CLM-00016\",\"num\":\"00016\"},\"claim-text\":{\"_text\":[\"16. The isolated monoclonal antibody of \",\", wherein the monoclonal antibody binds to at least S381.\"],\"claim-ref\":{\"_attributes\":{\"idref\":\"CLM-00001\"},\"_text\":\"claim 1\"}}},{\"_attributes\":{\"id\":\"CLM-00017\",\"num\":\"00017\"},\"claim-text\":{\"_text\":\"17. A pharmaceutical composition comprising an isolated monoclonal antibody, wherein, when bound to PCSK9, the isolated monoclonal ')\n",
      "3\n",
      "{'antigen': 'PCSK9', 'patentID': 'US8829165', 'residuesPositionsMarked': [153, 154, 155, 194, 238, 239, 369, 372, 374, 375, 377, 378, 379, 380, 381], 'seqID': '3'}\n"
     ]
    }
   ],
   "source": [
    "evaluatedPatent165 = EpitopeExtractRegex(\"PCSK9\", \"US8829165\", \"US8829165.json\")\n",
    "data165 = evaluatedPatent165.loadJson()\n",
    "sentenceToParse165 = evaluatedPatent165.findRelevantSentence()\n",
    "print(sentenceToParse165)\n",
    "\n",
    "\n",
    "ourString165 = evaluatedPatent165.extractWords()\n",
    "words165 = evaluatedPatent165.extractWords()\n",
    "extractedSeqID165 = evaluatedPatent165.extractSeqID()\n",
    "print(extractedSeqID165)\n",
    "\n",
    "evaluatedPatent165.seqIDtoDict()\n",
    "evaluatedPatent165.fillEpitopeDict()\n",
    "print(evaluatedPatent165.epitopeDictionary)\n",
    "\n",
    "evaluatedPatent165.epitopeDictToJson()"
   ]
  },
  {
   "cell_type": "code",
   "execution_count": 156,
   "id": "static-knife",
   "metadata": {},
   "outputs": [
    {
     "name": "stdout",
     "output_type": "stream",
     "text": [
      "('\": \"\",   \"Date of Patent\": \"\",   \"Epitope description 1\": \"What is claimed is: 1. An isolated monoclonal antibody that binds to PCSK9, wherein the isolated monoclonal antibody binds an epitope on PCSK9 comprising at least one of residues 237 or 238 of SEQ ID NO: 3, and wherein the monoclonal antibody blocks binding of PCSK9 to LDLR.', ' 1. An isolated monoclonal antibody that binds to PCSK9, wherein the isolated monoclonal ', ' PCSK9 ')\n",
      "3\n",
      "{'antigen': 'PCSK9', 'patentID': 'US8859741', 'residuesPositionsMarked': [237, 238], 'seqID': '3'}\n"
     ]
    }
   ],
   "source": [
    "evaluatedPatent741 = EpitopeExtractRegex(\"PCSK9\", \"US8859741\", \"US8859741.json\")\n",
    "data741 = evaluatedPatent741.loadJson()\n",
    "sentenceToParse741 = evaluatedPatent741.findRelevantSentence()\n",
    "print(sentenceToParse741)\n",
    "\n",
    "\n",
    "ourString741 = evaluatedPatent741.extractWords()\n",
    "words741 = evaluatedPatent741.extractWords()\n",
    "extractedSeqID741 = evaluatedPatent741.extractSeqID()\n",
    "print(extractedSeqID741)\n",
    "\n",
    "evaluatedPatent741.seqIDtoDict()\n",
    "evaluatedPatent741.fillEpitopeDict()\n",
    "print(evaluatedPatent741.epitopeDictionary)\n",
    "\n",
    "evaluatedPatent741.epitopeDictToJson()"
   ]
  },
  {
   "cell_type": "code",
   "execution_count": 157,
   "id": "undefined-stationery",
   "metadata": {},
   "outputs": [
    {
     "name": "stdout",
     "output_type": "stream",
     "text": [
      "('\": \"\",   \"Date of Patent\": \"\",   \"Epitope description 1\": \"What is claimed is: 1. An isolated monoclonal antibody, wherein, when bound to PCSK9, said monoclonal antibody binds to at least one residue within the sequence set forth by residues 123-132 of SEQ ID NO: 1, and wherein said monoclonal antibody reduces binding between PCSK9 and an EGFa domain of LDLR protein antagonizes PCSK9\\'s inhibition of cellular LDL uptake.', ' 1. An isolated monoclonal antibody, wherein, when bound to PCSK9, said monoclonal ')\n",
      "1\n",
      "{'antigen': 'PCSK9', 'patentID': 'US8563698', 'residuesPositionsMarked': [123, 124, 125, 126, 127, 128, 129, 130, 131, 132], 'seqID': '1'}\n"
     ]
    }
   ],
   "source": [
    "evaluatedPatent698 = EpitopeExtractRegex(\"PCSK9\", \"US8563698\", \"US8563698.json\")\n",
    "data698 = evaluatedPatent698.loadJson()\n",
    "sentenceToParse698 = evaluatedPatent698.findRelevantSentence()\n",
    "print(sentenceToParse698)\n",
    "\n",
    "\n",
    "ourString698 = evaluatedPatent698.extractWords()\n",
    "words698 = evaluatedPatent698.extractWords()\n",
    "extractedSeqID698 = evaluatedPatent698.extractSeqID()\n",
    "print(extractedSeqID698)\n",
    "\n",
    "evaluatedPatent698.seqIDtoDict()\n",
    "evaluatedPatent698.fillEpitopeDict()\n",
    "print(evaluatedPatent698.epitopeDictionary)\n",
    "\n",
    "evaluatedPatent698.epitopeDictToJson()"
   ]
  },
  {
   "cell_type": "code",
   "execution_count": null,
   "id": "extra-channels",
   "metadata": {},
   "outputs": [],
   "source": []
  },
  {
   "cell_type": "code",
   "execution_count": null,
   "id": "stuffed-pixel",
   "metadata": {},
   "outputs": [],
   "source": []
  },
  {
   "cell_type": "code",
   "execution_count": null,
   "id": "regulated-assurance",
   "metadata": {},
   "outputs": [],
   "source": []
  },
  {
   "cell_type": "code",
   "execution_count": null,
   "id": "protecting-profit",
   "metadata": {},
   "outputs": [],
   "source": []
  },
  {
   "cell_type": "code",
   "execution_count": null,
   "id": "smart-communications",
   "metadata": {},
   "outputs": [],
   "source": []
  },
  {
   "cell_type": "code",
   "execution_count": null,
   "id": "coupled-ceramic",
   "metadata": {},
   "outputs": [],
   "source": []
  }
 ],
 "metadata": {
  "kernelspec": {
   "display_name": "Python 3",
   "language": "python",
   "name": "python3"
  },
  "language_info": {
   "codemirror_mode": {
    "name": "ipython",
    "version": 3
   },
   "file_extension": ".py",
   "mimetype": "text/x-python",
   "name": "python",
   "nbconvert_exporter": "python",
   "pygments_lexer": "ipython3",
   "version": "3.8.2"
  }
 },
 "nbformat": 4,
 "nbformat_minor": 5
}
